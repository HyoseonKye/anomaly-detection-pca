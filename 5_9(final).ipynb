{
  "nbformat": 4,
  "nbformat_minor": 0,
  "metadata": {
    "colab": {
      "name": "5.9(final)",
      "provenance": [],
      "private_outputs": true,
      "authorship_tag": "ABX9TyNGewz6eAim7OQ2tum9esvf",
      "include_colab_link": true
    },
    "kernelspec": {
      "name": "python3",
      "display_name": "Python 3"
    }
  },
  "cells": [
    {
      "cell_type": "markdown",
      "metadata": {
        "id": "view-in-github",
        "colab_type": "text"
      },
      "source": [
        "<a href=\"https://colab.research.google.com/github/HyoseonKye/anomaly-detection-pca/blob/master/5_9(final).ipynb\" target=\"_parent\"><img src=\"https://colab.research.google.com/assets/colab-badge.svg\" alt=\"Open In Colab\"/></a>"
      ]
    },
    {
      "cell_type": "code",
      "metadata": {
        "id": "jdGAFnpACFHw",
        "colab_type": "code",
        "colab": {}
      },
      "source": [
        "!git clone https://github.com/bmil-ssu/anomaly-detection-pca"
      ],
      "execution_count": null,
      "outputs": []
    },
    {
      "cell_type": "code",
      "metadata": {
        "id": "tUSOVh56op-_",
        "colab_type": "code",
        "colab": {}
      },
      "source": [
        "from google.colab import drive\n",
        "drive.mount('/content/data')\n",
        "\n",
        "import pandas as pd\n",
        "from matplotlib import pyplot as plt\n",
        "from pylab import rcParams\n",
        "#pyplot과 numpy를 단일 네임스페이스로 결합 but, 작업 시 네임스페이스를 구분하는 것을 추천.\n",
        "rcParams['figure.figsize'] = 7,7 \n",
        "#matplotlib.pylab의 rcParams 설정을 활용하면, 차트의 크기와 선의 색, 두께등의 기본값을 설정 가능\n",
        "#figure.figsize : 순서대로 너비, 높이를 인치크기로 설정\n",
        "import seaborn as sns #heatmap()함수 존재\n",
        "import numpy as np\n",
        "sns.set(color_codes=True, font_scale=1.2)\n",
        "#sns.set : 색상, 틱 스타일 등 전반적인 플롯 스타일을 Seaborn 기본 스타일로 설정.\n",
        "#color_codes : seaborn palette이용 front_scale : 글꼴 크기\n",
        "\n",
        "%matplotlib inline \n",
        "#jupyter notebook 실행시 브라우저에서 바로 그림을 볼수 있도록 하는 코드.\n",
        "#구 버전의 주피터 노트북에 그래프를 표시하기 위해 필요한 설정\n",
        "%config InlineBackend.figure_format = 'retina' #글씨 선명하게 출력하는 설정\n",
        "%load_ext autoreload \n",
        "# line 17,18 : IPython에서 코드 변경시 각 모듈을 자동으로 다시 로드하는 방법\n",
        "%autoreload 2"
      ],
      "execution_count": null,
      "outputs": []
    },
    {
      "cell_type": "code",
      "metadata": {
        "id": "5b-Ox2Tuo02v",
        "colab_type": "code",
        "colab": {}
      },
      "source": [
        "!pip install heatmapz"
      ],
      "execution_count": null,
      "outputs": []
    },
    {
      "cell_type": "code",
      "metadata": {
        "id": "v7xLrqH5o8bZ",
        "colab_type": "code",
        "colab": {}
      },
      "source": [
        "# Import the two methods from heatmap library\n",
        "from heatmap import heatmap, corrplot\n",
        "# Load the Automobile dataset.\n",
        "# This gets a cleaned version of UCI dataset found at http://archive.ics.uci.edu/ml/datasets/automobile\n",
        "\n",
        "data = pd.read_csv('/content/data/My Drive/test/5.9(type modificaiton).csv')\n",
        "\n",
        "#data2=data.loc[:,['tcp_packets'.'vulume_bytes','source_app_packets',]]\n",
        "del data['duracion']\n",
        "del data['avg_local_pkt_rate']\n",
        "del data['avg_remote_pkt_rate']\n",
        "normal=data[(data['type']==1)]\n",
        "abnormal=data[(data['type']!=1)]\n",
        "del data['type']\n",
        "del normal['type']\n",
        "del abnormal['type']"
      ],
      "execution_count": null,
      "outputs": []
    },
    {
      "cell_type": "code",
      "metadata": {
        "id": "0EHBRbcbpADw",
        "colab_type": "code",
        "colab": {}
      },
      "source": [
        "#normal 데이터에 대한 heatmap\n",
        "plt.figure(figsize=(8, 8))\n",
        "corrplot(normal.corr(), size_scale=300);"
      ],
      "execution_count": null,
      "outputs": []
    },
    {
      "cell_type": "code",
      "metadata": {
        "id": "rd3VnZCFpIRv",
        "colab_type": "code",
        "colab": {}
      },
      "source": [
        "#abnormal 데이터에 대한 heatmap\n",
        "plt.figure(figsize=(8, 8))\n",
        "corrplot(abnormal.corr(), size_scale=300);"
      ],
      "execution_count": null,
      "outputs": []
    },
    {
      "cell_type": "code",
      "metadata": {
        "id": "6XtmVwV5ylb5",
        "colab_type": "code",
        "colab": {}
      },
      "source": [
        "normal.corr()\n",
        "#diff_corr=normal.corr()-abnormal.corr()\n",
        "'''\n",
        "diff_corr_df=pd.DataFrame(diff_corr)\n",
        "plt.figure(figsize=(8, 8))\n",
        "corrplot(diff_corr(), size_scale=300); '''"
      ],
      "execution_count": null,
      "outputs": []
    },
    {
      "cell_type": "code",
      "metadata": {
        "id": "ylJLqHzGpLHs",
        "colab_type": "code",
        "colab": {}
      },
      "source": [
        "del normal['name']\n",
        "from sklearn.preprocessing import StandardScaler\n",
        "scaler=StandardScaler()\n",
        "normal_cen=scaler.fit_transform(normal)\n",
        "normal_cen"
      ],
      "execution_count": null,
      "outputs": []
    },
    {
      "cell_type": "code",
      "metadata": {
        "id": "XFh_W7qRp0vf",
        "colab_type": "code",
        "colab": {}
      },
      "source": [
        "#normal zero mean\n",
        "normal_df=pd.DataFrame(normal_cen, columns=normal.columns, index=normal.index+1)\n",
        "normal_df"
      ],
      "execution_count": null,
      "outputs": []
    },
    {
      "cell_type": "code",
      "metadata": {
        "id": "L89AUSR9qlZe",
        "colab_type": "code",
        "colab": {}
      },
      "source": [
        "normal_df.mean() #almost zero mean"
      ],
      "execution_count": null,
      "outputs": []
    },
    {
      "cell_type": "code",
      "metadata": {
        "id": "pcElNa_vpjlg",
        "colab_type": "code",
        "colab": {}
      },
      "source": [
        "#abnormal zero mean\n",
        "del abnormal['name']\n",
        "from sklearn.preprocessing import StandardScaler\n",
        "scaler=StandardScaler()\n",
        "abnormal_cen=scaler.fit_transform(abnormal)\n",
        "abnormal_df=pd.DataFrame(abnormal_cen, columns=abnormal.columns, index=abnormal.index+1)\n",
        "abnormal_df"
      ],
      "execution_count": null,
      "outputs": []
    },
    {
      "cell_type": "code",
      "metadata": {
        "id": "uiiNfMNRq_ws",
        "colab_type": "code",
        "colab": {}
      },
      "source": [
        "#SVD\n",
        "U,D,W_t=np.linalg.svd(normal_cen)"
      ],
      "execution_count": null,
      "outputs": []
    },
    {
      "cell_type": "code",
      "metadata": {
        "id": "6Y5Lic1-slp-",
        "colab_type": "code",
        "colab": {}
      },
      "source": [
        "D"
      ],
      "execution_count": null,
      "outputs": []
    },
    {
      "cell_type": "code",
      "metadata": {
        "id": "rMIcTM7Ss4R9",
        "colab_type": "code",
        "colab": {}
      },
      "source": [
        "W_t.T"
      ],
      "execution_count": null,
      "outputs": []
    },
    {
      "cell_type": "code",
      "metadata": {
        "id": "NYHZwnoUtFBd",
        "colab_type": "code",
        "colab": {}
      },
      "source": [
        "W_df=pd.DataFrame(W_t.T, columns=normal.columns)\n",
        "W_df"
      ],
      "execution_count": null,
      "outputs": []
    },
    {
      "cell_type": "code",
      "metadata": {
        "id": "ZYTHwDpmtm3p",
        "colab_type": "code",
        "colab": {}
      },
      "source": [
        "#대체로 큰값순...으로 나오는? => pca에서 W가 크기순으로 나온다는 것에 대한 개념 다시 공부해보기\n",
        "W_df.mean()"
      ],
      "execution_count": null,
      "outputs": []
    },
    {
      "cell_type": "code",
      "metadata": {
        "id": "x75B6zettw3G",
        "colab_type": "code",
        "colab": {}
      },
      "source": [
        "'''\n",
        "size=np.dot(W_df,W_df)\n",
        "size_df=pd.DataFrame(size)\n",
        "size_df\n",
        "pca에서 W가 크기순으로 나온다는 것에 대한 개념 다시 공부해보기\n",
        "'''"
      ],
      "execution_count": null,
      "outputs": []
    },
    {
      "cell_type": "code",
      "metadata": {
        "id": "ZTXc0onkvC-M",
        "colab_type": "code",
        "colab": {}
      },
      "source": [
        "T_normal=np.dot(normal_cen, W_df)\n",
        "T_normal_df=pd.DataFrame(T_normal, columns=normal.columns)\n",
        "T_normal_df"
      ],
      "execution_count": null,
      "outputs": []
    },
    {
      "cell_type": "code",
      "metadata": {
        "id": "tdcGPgh-vprC",
        "colab_type": "code",
        "colab": {}
      },
      "source": [
        "T_abnormal=np.dot(abnormal_cen, W_df)\n",
        "T_abnormal_df=pd.DataFrame(T_abnormal,columns=abnormal.columns)\n",
        "T_abnormal_df"
      ],
      "execution_count": null,
      "outputs": []
    },
    {
      "cell_type": "markdown",
      "metadata": {
        "id": "rkVrWaMX5Llz",
        "colab_type": "text"
      },
      "source": [
        "**tcp_packets-dist_pot_tcp**"
      ]
    },
    {
      "cell_type": "code",
      "metadata": {
        "id": "4DF_FDxKwR5R",
        "colab_type": "code",
        "colab": {}
      },
      "source": [
        "plt.scatter(T_normal_df.tcp_packets, T_normal_df.dist_port_tcp, c='red',alpha=0.3)\n",
        "plt.scatter(T_abnormal_df.tcp_packets, T_abnormal_df.dist_port_tcp, c='blue', alpha=0.3)\n",
        "plt.xlim(0,60)\n",
        "plt.ylim(-30,5)\n",
        "plt.title('normal-red, abnormal-blue')\n",
        "plt.xlabel('tcp_packets')\n",
        "plt.ylabel('dis_port_tcp')\n",
        "#plt.scatter에서 alpha(0.2)       \n"
      ],
      "execution_count": null,
      "outputs": []
    },
    {
      "cell_type": "code",
      "metadata": {
        "id": "ZxQwqx0TxD1S",
        "colab_type": "code",
        "colab": {}
      },
      "source": [
        "plt.scatter(T_normal_df.tcp_packets, T_normal_df.dist_port_tcp, c='red',alpha=0.3)\n",
        "\n",
        "plt.xlim(0,80)\n",
        "plt.ylim(-30,5)\n",
        "plt.title('normal-red, abnormal-blue')\n",
        "plt.xlabel('tcp_packets')\n",
        "plt.ylabel('dis_port_tcp')\n",
        "#plt.scatter에서 alpha(0.2)\n"
      ],
      "execution_count": null,
      "outputs": []
    },
    {
      "cell_type": "code",
      "metadata": {
        "id": "zBgViYIl1wvq",
        "colab_type": "code",
        "colab": {}
      },
      "source": [
        "\n",
        "plt.scatter(T_abnormal_df.tcp_packets, T_abnormal_df.dist_port_tcp, c='blue', alpha=0.3)\n",
        "plt.xlim(0,80)\n",
        "plt.ylim(-30,5)\n",
        "plt.title('normal-red, abnormal-blue')\n",
        "plt.xlabel('tcp_packets')\n",
        "plt.ylabel('dis_port_tcp')\n",
        "#plt.scatter에서 alpha(0.2)\n"
      ],
      "execution_count": null,
      "outputs": []
    },
    {
      "cell_type": "markdown",
      "metadata": {
        "id": "MnWVCAMl5TN6",
        "colab_type": "text"
      },
      "source": [
        "**dist_port_tcp-external_ips**"
      ]
    },
    {
      "cell_type": "code",
      "metadata": {
        "id": "AZNvbUv325n_",
        "colab_type": "code",
        "colab": {}
      },
      "source": [
        "plt.scatter(T_normal_df.dist_port_tcp, T_normal_df.external_ips, c='red',alpha=0.3)\n",
        "plt.scatter(T_abnormal_df.dist_port_tcp, T_abnormal_df.external_ips, c='blue', alpha=0.3)\n",
        "plt.xlim(-40,10)\n",
        "plt.ylim(-20,40)\n",
        "plt.title('normal-red, abnormal-blue')\n",
        "plt.xlabel('dist_port_tcp')\n",
        "plt.ylabel('external_ips')\n",
        "#plt.scatter에서 alpha(0.2)"
      ],
      "execution_count": null,
      "outputs": []
    },
    {
      "cell_type": "code",
      "metadata": {
        "id": "qQ6hnm_13DaJ",
        "colab_type": "code",
        "colab": {}
      },
      "source": [
        "plt.scatter(T_normal_df.dist_port_tcp, T_normal_df.external_ips, c='red',alpha=0.3)\n",
        "plt.xlim(-40,10)\n",
        "plt.ylim(-20,40)\n",
        "plt.title('normal-red, abnormal-blue')\n",
        "plt.xlabel('dist_port_tcp')\n",
        "plt.ylabel('external_ips')\n",
        "#plt.scatter에서 alpha(0.2)\n"
      ],
      "execution_count": null,
      "outputs": []
    },
    {
      "cell_type": "code",
      "metadata": {
        "id": "J9fqZfmK3EuU",
        "colab_type": "code",
        "colab": {}
      },
      "source": [
        "plt.scatter(T_abnormal_df.dist_port_tcp, T_abnormal_df.external_ips, c='blue', alpha=0.3)\n",
        "plt.xlim(-40,10)\n",
        "plt.ylim(-20,40)\n",
        "plt.title('normal-red, abnormal-blue')\n",
        "plt.xlabel('dist_port_tcp')\n",
        "plt.ylabel('external_ips')\n",
        "#plt.scatter에서 alpha(0.2)"
      ],
      "execution_count": null,
      "outputs": []
    },
    {
      "cell_type": "markdown",
      "metadata": {
        "id": "joN4T3H05iFp",
        "colab_type": "text"
      },
      "source": [
        "**external_ips-vulume_bytes**"
      ]
    },
    {
      "cell_type": "code",
      "metadata": {
        "id": "AEpgYmPQ3qkd",
        "colab_type": "code",
        "colab": {}
      },
      "source": [
        "plt.scatter(T_normal_df.external_ips, T_normal_df.vulume_bytes, c='red',alpha=0.3)\n",
        "plt.scatter(T_abnormal_df.external_ips, T_abnormal_df.vulume_bytes, c='blue', alpha=0.3)\n",
        "#plt.xlim(-10,10)\n",
        "#plt.ylim(-10,10)\n",
        "plt.title('normal-red, abnormal-blue')\n",
        "plt.xlabel('external_ips')\n",
        "plt.ylabel('vulume_bytes')\n",
        "#plt.scatter에서 alpha(0.2)\n"
      ],
      "execution_count": null,
      "outputs": []
    },
    {
      "cell_type": "code",
      "metadata": {
        "id": "9nupEyuU5sev",
        "colab_type": "code",
        "colab": {}
      },
      "source": [
        "plt.scatter(T_normal_df.external_ips, T_normal_df.vulume_bytes, c='red',alpha=0.3)\n",
        "#plt.xlim(-10,10)\n",
        "#plt.ylim(-10,10)\n",
        "plt.title('normal-red, abnormal-blue')\n",
        "plt.xlabel('external_ips')\n",
        "plt.ylabel('vulume_bytes')\n",
        "#plt.scatter에서 alpha(0.2)\n"
      ],
      "execution_count": null,
      "outputs": []
    },
    {
      "cell_type": "code",
      "metadata": {
        "id": "b3xPk5_c5yWd",
        "colab_type": "code",
        "colab": {}
      },
      "source": [
        "plt.scatter(T_abnormal_df.external_ips, T_abnormal_df.vulume_bytes, c='blue', alpha=0.3)\n",
        "#plt.xlim(-10,10)\n",
        "#plt.ylim(-10,10)\n",
        "plt.title('normal-red, abnormal-blue')\n",
        "plt.xlabel('external_ips')\n",
        "plt.ylabel('vulume_bytes')\n",
        "#plt.scatter에서 alpha(0.2)\n"
      ],
      "execution_count": null,
      "outputs": []
    },
    {
      "cell_type": "markdown",
      "metadata": {
        "id": "iwJYiPfH6YcL",
        "colab_type": "text"
      },
      "source": [
        "**vulume_bytes-udp_packets**"
      ]
    },
    {
      "cell_type": "code",
      "metadata": {
        "id": "5KVCiE4k55YY",
        "colab_type": "code",
        "colab": {}
      },
      "source": [
        "plt.scatter(T_normal_df.vulume_bytes, T_normal_df.udp_packets, c='red',alpha=0.3)\n",
        "plt.scatter(T_abnormal_df.vulume_bytes, T_abnormal_df.udp_packets, c='blue', alpha=0.3)\n",
        "#plt.xlim(-10,10)\n",
        "#plt.ylim(-10,10)\n",
        "plt.title('normal-red, abnormal-blue')\n",
        "plt.xlabel('vulume_bytes')\n",
        "plt.ylabel('udp_packets')\n",
        "#plt.scatter에서 alpha(0.2)"
      ],
      "execution_count": null,
      "outputs": []
    },
    {
      "cell_type": "code",
      "metadata": {
        "id": "xT5PkzIj6J-r",
        "colab_type": "code",
        "colab": {}
      },
      "source": [
        "plt.scatter(T_normal_df.vulume_bytes, T_normal_df.udp_packets, c='red',alpha=0.3)\n",
        "#plt.xlim(-10,10)\n",
        "#plt.ylim(-10,10)\n",
        "plt.title('normal-red, abnormal-blue')\n",
        "plt.xlabel('vulume_bytes')\n",
        "plt.ylabel('udp_packets')\n",
        "#plt.scatter에서 alpha(0.2)\n"
      ],
      "execution_count": null,
      "outputs": []
    },
    {
      "cell_type": "code",
      "metadata": {
        "id": "gtDnaiuY6T6F",
        "colab_type": "code",
        "colab": {}
      },
      "source": [
        "plt.scatter(T_abnormal_df.vulume_bytes, T_abnormal_df.udp_packets, c='blue', alpha=0.3)\n",
        "#plt.xlim(-10,10)\n",
        "#plt.ylim(-10,10)\n",
        "plt.title('normal-red, abnormal-blue')\n",
        "plt.xlabel('vulume_bytes')\n",
        "plt.ylabel('udp_packets')\n",
        "#plt.scatter에서 alpha(0.2)"
      ],
      "execution_count": null,
      "outputs": []
    },
    {
      "cell_type": "markdown",
      "metadata": {
        "id": "tFSi1Vvu6r2H",
        "colab_type": "text"
      },
      "source": [
        "**udp_packets-tcp_urg_packet**"
      ]
    },
    {
      "cell_type": "code",
      "metadata": {
        "id": "KErqJQms6iRB",
        "colab_type": "code",
        "colab": {}
      },
      "source": [
        "plt.scatter(T_normal_df.udp_packets, T_normal_df.tcp_urg_packet, c='red',alpha=0.3)\n",
        "plt.scatter(T_abnormal_df.udp_packets, T_abnormal_df.tcp_urg_packet, c='blue', alpha=0.3)\n",
        "plt.xlim(-10,10)\n",
        "plt.ylim(-10,10)\n",
        "plt.title('normal-red, abnormal-blue')\n",
        "plt.xlabel('udp_packets')\n",
        "plt.ylabel('tcp_urg_packet')\n",
        "#plt.scatter에서 alpha(0.2)"
      ],
      "execution_count": null,
      "outputs": []
    },
    {
      "cell_type": "code",
      "metadata": {
        "id": "YEZoKm1U6zR5",
        "colab_type": "code",
        "colab": {}
      },
      "source": [
        "plt.scatter(T_normal_df.udp_packets, T_normal_df.tcp_urg_packet, c='red',alpha=0.3)\n",
        "#plt.xlim(-10,10)\n",
        "#plt.ylim(-10,10)\n",
        "plt.title('normal-red, abnormal-blue')\n",
        "plt.xlabel('udp_packets')\n",
        "plt.ylabel('tcp_urg_packet')\n",
        "#plt.scatter에서 alpha(0.2)"
      ],
      "execution_count": null,
      "outputs": []
    },
    {
      "cell_type": "code",
      "metadata": {
        "id": "A86zZpis61x2",
        "colab_type": "code",
        "colab": {}
      },
      "source": [
        "plt.scatter(T_abnormal_df.udp_packets, T_abnormal_df.tcp_urg_packet, c='blue', alpha=0.3)\n",
        "#plt.xlim(-10,10)\n",
        "#plt.ylim(-10,10)\n",
        "plt.title('normal-red, abnormal-blue')\n",
        "plt.xlabel('udp_packets')\n",
        "plt.ylabel('tcp_urg_packet')\n",
        "#plt.scatter에서 alpha(0.2)"
      ],
      "execution_count": null,
      "outputs": []
    },
    {
      "cell_type": "markdown",
      "metadata": {
        "id": "LfLS7XQ87O2Y",
        "colab_type": "text"
      },
      "source": [
        "**tcp_urg_packet-source_app_packets**"
      ]
    },
    {
      "cell_type": "code",
      "metadata": {
        "id": "g8AahSXo7D3F",
        "colab_type": "code",
        "colab": {}
      },
      "source": [
        "plt.scatter(T_normal_df.tcp_urg_packet, T_normal_df.source_app_packets, c='red',alpha=0.3)\n",
        "plt.scatter(T_abnormal_df.tcp_urg_packet, T_abnormal_df.source_app_packets, c='blue', alpha=0.3)\n",
        "plt.xlim(-10,10)\n",
        "plt.ylim(-10,10)\n",
        "plt.title('normal-red, abnormal-blue')\n",
        "plt.xlabel('tcp_urg_packet')\n",
        "plt.ylabel('source_app_packets')\n",
        "#plt.scatter에서 alpha(0.2)"
      ],
      "execution_count": null,
      "outputs": []
    },
    {
      "cell_type": "code",
      "metadata": {
        "id": "XT0MIIAa7VbR",
        "colab_type": "code",
        "colab": {}
      },
      "source": [
        "plt.scatter(T_normal_df.tcp_urg_packet, T_normal_df.source_app_packets, c='red',alpha=0.3)\n",
        "#plt.xlim(-10,10)\n",
        "#plt.ylim(-10,10)\n",
        "plt.title('normal-red, abnormal-blue')\n",
        "plt.xlabel('tcp_urg_packet')\n",
        "plt.ylabel('source_app_packets')\n",
        "#plt.scatter에서 alpha(0.2)"
      ],
      "execution_count": null,
      "outputs": []
    },
    {
      "cell_type": "code",
      "metadata": {
        "id": "2dbL5qP77YTb",
        "colab_type": "code",
        "colab": {}
      },
      "source": [
        "plt.scatter(T_abnormal_df.tcp_urg_packet, T_abnormal_df.source_app_packets, c='blue', alpha=0.3)\n",
        "#plt.xlim(-10,10)\n",
        "#plt.ylim(-10,10)\n",
        "plt.title('normal-red, abnormal-blue')\n",
        "plt.xlabel('tcp_urg_packet')\n",
        "plt.ylabel('source_app_packets')\n",
        "#plt.scatter에서 alpha(0.2)"
      ],
      "execution_count": null,
      "outputs": []
    },
    {
      "cell_type": "markdown",
      "metadata": {
        "id": "G3T1QCil7y_l",
        "colab_type": "text"
      },
      "source": [
        "**source_app_packets-remote_app_packets**"
      ]
    },
    {
      "cell_type": "code",
      "metadata": {
        "id": "QFvgEYYj7pjZ",
        "colab_type": "code",
        "colab": {}
      },
      "source": [
        "plt.scatter(T_normal_df.source_app_packets, T_normal_df.remote_app_packets, c='red',alpha=0.3)\n",
        "plt.scatter(T_abnormal_df.source_app_packets, T_abnormal_df.remote_app_packets, c='blue', alpha=0.3)\n",
        "plt.xlim(-5,5)\n",
        "plt.ylim(-5,5)\n",
        "plt.title('normal-red, abnormal-blue')\n",
        "plt.xlabel('source_app_packets')\n",
        "plt.ylabel('remote_app_packets')\n",
        "#plt.scatter에서 alpha(0.2)"
      ],
      "execution_count": null,
      "outputs": []
    },
    {
      "cell_type": "code",
      "metadata": {
        "id": "rT03I0C378AF",
        "colab_type": "code",
        "colab": {}
      },
      "source": [
        "plt.scatter(T_normal_df.source_app_packets, T_normal_df.remote_app_packets, c='red',alpha=0.3)\n",
        "#plt.xlim(-10,10)\n",
        "#plt.ylim(-10,10)\n",
        "plt.title('normal-red, abnormal-blue')\n",
        "plt.xlabel('source_app_packets')\n",
        "plt.ylabel('remote_app_packets')\n",
        "#plt.scatter에서 alpha(0.2)"
      ],
      "execution_count": null,
      "outputs": []
    },
    {
      "cell_type": "code",
      "metadata": {
        "id": "pScEd-iO8AG-",
        "colab_type": "code",
        "colab": {}
      },
      "source": [
        "plt.scatter(T_abnormal_df.source_app_packets, T_abnormal_df.remote_app_packets, c='blue', alpha=0.3)\n",
        "#plt.xlim(-10,10)\n",
        "#plt.ylim(-10,10)\n",
        "plt.title('normal-red, abnormal-blue')\n",
        "plt.xlabel('source_app_packets')\n",
        "plt.ylabel('remote_app_packets')\n",
        "#plt.scatter에서 alpha(0.2)"
      ],
      "execution_count": null,
      "outputs": []
    },
    {
      "cell_type": "markdown",
      "metadata": {
        "id": "k1aD-oHx8TpI",
        "colab_type": "text"
      },
      "source": [
        "**remote_app_packets-source_app_bytes**"
      ]
    },
    {
      "cell_type": "code",
      "metadata": {
        "id": "R9Lc15ZE8PBp",
        "colab_type": "code",
        "colab": {}
      },
      "source": [
        "plt.scatter(T_normal_df.remote_app_packets, T_normal_df.source_app_bytes, c='red',alpha=0.3)\n",
        "plt.scatter(T_abnormal_df.remote_app_packets, T_abnormal_df.source_app_bytes, c='blue', alpha=0.3)\n",
        "#plt.xlim(-10,10)\n",
        "#plt.ylim(-10,10)\n",
        "plt.title('normal-red, abnormal-blue')\n",
        "plt.xlabel('remote_app_packets')\n",
        "plt.ylabel('source_app_bytes')\n",
        "#plt.scatter에서 alpha(0.2)"
      ],
      "execution_count": null,
      "outputs": []
    },
    {
      "cell_type": "code",
      "metadata": {
        "id": "R2m_TE608cOw",
        "colab_type": "code",
        "colab": {}
      },
      "source": [
        "plt.scatter(T_normal_df.remote_app_packets, T_normal_df.source_app_bytes, c='red',alpha=0.3)\n",
        "#plt.xlim(-10,10)\n",
        "#plt.ylim(-10,10)\n",
        "plt.title('normal-red, abnormal-blue')\n",
        "plt.xlabel('remote_app_packets')\n",
        "plt.ylabel('source_app_bytes')\n",
        "#plt.scatter에서 alpha(0.2)"
      ],
      "execution_count": null,
      "outputs": []
    },
    {
      "cell_type": "code",
      "metadata": {
        "id": "EnNIBgTT8gDO",
        "colab_type": "code",
        "colab": {}
      },
      "source": [
        "plt.scatter(T_abnormal_df.remote_app_packets, T_abnormal_df.source_app_bytes, c='blue', alpha=0.3)\n",
        "#plt.xlim(-10,10)\n",
        "#plt.ylim(-10,10)\n",
        "plt.title('normal-red, abnormal-blue')\n",
        "plt.xlabel('remote_app_packets')\n",
        "plt.ylabel('source_app_bytes')\n",
        "#plt.scatter에서 alpha(0.2)"
      ],
      "execution_count": null,
      "outputs": []
    },
    {
      "cell_type": "markdown",
      "metadata": {
        "id": "lDpnEhGu8nam",
        "colab_type": "text"
      },
      "source": [
        "**source_app_bytes-remote_app_bytes**"
      ]
    },
    {
      "cell_type": "code",
      "metadata": {
        "id": "WjFibNS38l6q",
        "colab_type": "code",
        "colab": {}
      },
      "source": [
        "plt.scatter(T_normal_df.source_app_bytes, T_normal_df.remote_app_bytes, c='red',alpha=0.3)\n",
        "plt.scatter(T_abnormal_df.source_app_bytes, T_abnormal_df.remote_app_bytes, c='blue', alpha=0.3)\n",
        "plt.xlim(-0.5,0.5)\n",
        "plt.ylim(-0.02,0.02)\n",
        "plt.title('normal-red, abnormal-blue')\n",
        "plt.xlabel('source_app_bytes')\n",
        "plt.ylabel('remote_app_bytes')\n",
        "#plt.scatter에서 alpha(0.2)"
      ],
      "execution_count": null,
      "outputs": []
    },
    {
      "cell_type": "code",
      "metadata": {
        "id": "hgudiNpZ80NE",
        "colab_type": "code",
        "colab": {}
      },
      "source": [
        "plt.scatter(T_normal_df.source_app_bytes, T_normal_df.remote_app_bytes, c='red',alpha=0.3)\n",
        "#plt.xlim(-10,10)\n",
        "#plt.ylim(-10,10)\n",
        "plt.title('normal-red, abnormal-blue')\n",
        "plt.xlabel('source_app_bytes')\n",
        "plt.ylabel('remote_app_bytes')\n",
        "#plt.scatter에서 alpha(0.2)"
      ],
      "execution_count": null,
      "outputs": []
    },
    {
      "cell_type": "code",
      "metadata": {
        "id": "QW68nS8i84SE",
        "colab_type": "code",
        "colab": {}
      },
      "source": [
        "plt.scatter(T_abnormal_df.source_app_bytes, T_abnormal_df.remote_app_bytes, c='blue', alpha=0.3)\n",
        "#plt.xlim(-10,10)\n",
        "#plt.ylim(-10,10)\n",
        "plt.title('normal-red, abnormal-blue')\n",
        "plt.xlabel('source_app_bytes')\n",
        "plt.ylabel('remote_app_bytes')\n",
        "#plt.scatter에서 alpha(0.2)"
      ],
      "execution_count": null,
      "outputs": []
    },
    {
      "cell_type": "markdown",
      "metadata": {
        "id": "DXAw6skd9WOj",
        "colab_type": "text"
      },
      "source": [
        "remote_app_bytes-source_app_packets_1"
      ]
    },
    {
      "cell_type": "code",
      "metadata": {
        "id": "T9DSIov39Rwo",
        "colab_type": "code",
        "colab": {}
      },
      "source": [
        "plt.scatter(T_normal_df.remote_app_bytes, T_normal_df.source_app_packets_1, c='red',alpha=0.3)\n",
        "plt.scatter(T_abnormal_df.remote_app_bytes, T_abnormal_df.source_app_packets_1, c='blue', alpha=0.3)\n",
        "plt.xlim(-0.01,0.01)\n",
        "plt.ylim(-0.005,0.005)\n",
        "plt.title('normal-red, abnormal-blue')\n",
        "plt.xlabel('remote_app_bytes')\n",
        "plt.ylabel('source_app_packets_1')\n",
        "#plt.scatter에서 alpha(0.2)"
      ],
      "execution_count": null,
      "outputs": []
    },
    {
      "cell_type": "code",
      "metadata": {
        "id": "rxJMY0xj38BT",
        "colab_type": "code",
        "colab": {}
      },
      "source": [
        "plt.scatter(T_normal_df.remote_app_bytes, T_normal_df.source_app_packets_1, c='red',alpha=0.3)\n",
        "plt.scatter(T_abnormal_df.remote_app_bytes, T_abnormal_df.source_app_packets_1, c='blue', alpha=0.3)\n",
        "plt.xlim(-0.005,0.005)\n",
        "plt.ylim(-0.005,0.005)\n",
        "plt.title('normal-red, abnormal-blue')\n",
        "plt.xlabel('remote_app_bytes')\n",
        "plt.ylabel('source_app_packets_1')\n",
        "#plt.scatter에서 alpha(0.2)\n"
      ],
      "execution_count": null,
      "outputs": []
    },
    {
      "cell_type": "code",
      "metadata": {
        "id": "UtzgfaJp9dVh",
        "colab_type": "code",
        "colab": {}
      },
      "source": [
        "plt.scatter(T_normal_df.remote_app_bytes, T_normal_df.source_app_packets_1, c='red',alpha=0.3)\n",
        "#plt.xlim(-0.5,0.5)\n",
        "#plt.ylim(-0.02,0.02)\n",
        "plt.title('normal-red, abnormal-blue')\n",
        "plt.xlabel('remote_app_bytes')\n",
        "plt.ylabel('source_app_packets_1')\n",
        "#plt.scatter에서 alpha(0.2)"
      ],
      "execution_count": null,
      "outputs": []
    },
    {
      "cell_type": "code",
      "metadata": {
        "id": "u6gECmWS9hSw",
        "colab_type": "code",
        "colab": {}
      },
      "source": [
        "plt.scatter(T_abnormal_df.remote_app_bytes, T_abnormal_df.source_app_packets_1, c='blue', alpha=0.3)\n",
        "#plt.xlim(-0.5,0.5)\n",
        "#plt.ylim(-0.02,0.02)\n",
        "plt.title('normal-red, abnormal-blue')\n",
        "plt.xlabel('remote_app_bytes')\n",
        "plt.ylabel('source_app_packets_1')\n",
        "#plt.scatter에서 alpha(0.2)"
      ],
      "execution_count": null,
      "outputs": []
    },
    {
      "cell_type": "markdown",
      "metadata": {
        "id": "8nlp65yK993y",
        "colab_type": "text"
      },
      "source": [
        "**source_app_packets_1-dns_query_times**"
      ]
    },
    {
      "cell_type": "code",
      "metadata": {
        "id": "o8ryy3oG91Af",
        "colab_type": "code",
        "colab": {}
      },
      "source": [
        "plt.scatter(T_normal_df.source_app_packets_1, T_normal_df.dns_query_times, c='red',alpha=0.3)\n",
        "plt.scatter(T_abnormal_df.source_app_packets_1, T_abnormal_df.dns_query_times, c='blue', alpha=0.3)\n",
        "#plt.xlim(-0.1,0.1)\n",
        "#plt.ylim(-1,1)\n",
        "plt.title('normal-red, abnormal-blue')\n",
        "plt.xlabel('source_app_packets_1')\n",
        "plt.ylabel('dns_query_times')\n",
        "#plt.scatter에서 alpha(0.2)"
      ],
      "execution_count": null,
      "outputs": []
    },
    {
      "cell_type": "code",
      "metadata": {
        "id": "iMlTCg9T-Fby",
        "colab_type": "code",
        "colab": {}
      },
      "source": [
        "plt.scatter(T_normal_df.source_app_packets_1, T_normal_df.dns_query_times, c='red',alpha=0.3)\n",
        "#plt.xlim(-1,1)\n",
        "#plt.ylim(-1,1)\n",
        "plt.title('normal-red, abnormal-blue')\n",
        "plt.xlabel('source_app_packets_1')\n",
        "plt.ylabel('dns_query_times')\n",
        "#plt.scatter에서 alpha(0.2)"
      ],
      "execution_count": null,
      "outputs": []
    },
    {
      "cell_type": "code",
      "metadata": {
        "id": "zm_4bCfq-IEf",
        "colab_type": "code",
        "colab": {}
      },
      "source": [
        "plt.scatter(T_abnormal_df.source_app_packets_1, T_abnormal_df.dns_query_times, c='blue', alpha=0.3)\n",
        "#plt.xlim(-0.01,0.01)\n",
        "#plt.ylim(-0.005,0.005)\n",
        "plt.title('normal-red, abnormal-blue')\n",
        "plt.xlabel('source_app_packets_1')\n",
        "plt.ylabel('dns_query_times')\n",
        "#plt.scatter에서 alpha(0.2)"
      ],
      "execution_count": null,
      "outputs": []
    }
  ]
}